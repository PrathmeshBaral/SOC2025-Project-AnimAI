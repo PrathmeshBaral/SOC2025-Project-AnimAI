{
 "cells": [
  {
   "cell_type": "markdown",
   "id": "312ea2da",
   "metadata": {},
   "source": [
    "---\n",
    "\n",
    "# Week - 4 Filling the corrupt Frames | SoC 2025 - AnimAI Project \n",
    "We are stepping towards our final project from now on, this notebook processes the Human3.6M dataset to analyze 2D keypoint trajectories, perform cubic spline interpolation for missing frames, apply Gaussian smoothing, and generate visualizations including static plots, animations, and videos. The code clones the VideoPose3D repository, downloads the MoCap dataset Human3.6M, and creates side-by-side comparisons of ground truth and reconstructed keypoint trajectories.\n",
    "\n",
    "## Objectives\n",
    "- Extract and visualize 2D keypoints for a specific subject and action.\n",
    "- Reconstruct missing keypoints using cubic spline interpolation.\n",
    "- Smooth trajectories using Gaussian filtering.\n",
    "- Generate videos comparing ground truth, reconstructed, and known-only keypoint sequences.\n",
    "\n",
    "## Prerequisites\n",
    "- VS Code environment with GPU/CPU support.\n",
    "- Internet access for cloning repositories and downloading datasets.\n",
    "- Familiarity with Python, NumPy, Matplotlib, and OpenCV.\n",
    "\n",
    "Usage of auxiliary modules such as `os`,`subprocess` and `urllib` has been done in this notebook, with explanations provided alongside their usage in the relevant code sections. Don't be intimated by them, they will help us in creating a smooth workflow, with minimal interaction with terminal, file explorer etc, for example playing a video in VS Code itself is difficult, so we have to again and again open file explorer to play the output videos, instead this help us play directly while we run the code snippet. \n",
    "\n",
    "**Suggestion:** Keep note of the type and shape of certain variables, especially which variables involing `numpy`, this will make it much easier to follow the workflow and debug issues."
   ]
  },
  {
   "cell_type": "markdown",
   "id": "6b55d00e",
   "metadata": {},
   "source": [
    "## Setup and Data extraction\n",
    "\n",
    "Cloning the VideoPose3D repository and downloading the Human3.6M 2D keypoint dataset `data_2d_h36m_cpn_ft_h36m_dbb.npz`"
   ]
  },
  {
   "cell_type": "code",
   "execution_count": 1,
   "id": "5f67d53e",
   "metadata": {},
   "outputs": [
    {
     "name": "stdout",
     "output_type": "stream",
     "text": [
      "Dataset already exists. You can start using it directly.\n"
     ]
    }
   ],
   "source": [
    "import os # os is a popular module that provides a way of using operating system dependent functionality like reading or writing to the file system.\n",
    "import urllib.request # this module can be used for opening and reading URLs.\n",
    "import subprocess  # subprocess is a module that allows you to start and manage new processes, like say playing a video or running a command in the terminal.\n",
    "\n",
    "# This script checks if the VideoPose3D repository exists locally on your PC, clones it if not,\n",
    "# it downloads our dataset called Human3.6M if it is not already present.\n",
    "\n",
    "if not os.path.exists(\"VideoPose3D\"):\n",
    "    subprocess.run([\"git\", \"clone\", \"https://github.com/facebookresearch/VideoPose3D.git\"])\n",
    "\n",
    "# Download dataset if not exists\n",
    "data_path = \"VideoPose3D/data/data_2d_h36m_cpn_ft_h36m_dbb.npz\"\n",
    "os.makedirs(os.path.dirname(data_path), exist_ok=True)\n",
    "\n",
    "if not os.path.exists(data_path):\n",
    "    urllib.request.urlretrieve(\n",
    "        \"https://dl.fbaipublicfiles.com/video-pose-3d/data_2d_h36m_cpn_ft_h36m_dbb.npz\",\n",
    "        data_path\n",
    "    )\n",
    "    print(\"Dataset downloaded.\")\n",
    "else:\n",
    "    print(\"Dataset already exists. You can start using it directly.\")\n"
   ]
  },
  {
   "cell_type": "markdown",
   "id": "1fa85011",
   "metadata": {},
   "source": [
    "### Importing Data by the path"
   ]
  },
  {
   "cell_type": "code",
   "execution_count": 3,
   "id": "dc4748e1",
   "metadata": {},
   "outputs": [
    {
     "name": "stdout",
     "output_type": "stream",
     "text": [
      "['positions_2d', 'metadata']\n"
     ]
    }
   ],
   "source": [
    "import numpy as np\n",
    "\n",
    "# Load dataset\n",
    "data = np.load(data_path, allow_pickle=True) # allow_pickle=True allows loading of objects stored in the file, such as dictionaries or lists. \n",
    "print(data.files)  # List all available files in the dataset"
   ]
  },
  {
   "cell_type": "markdown",
   "id": "607e2086",
   "metadata": {},
   "source": [
    "#### Inspecting `metadata` dictionary"
   ]
  },
  {
   "cell_type": "code",
   "execution_count": 5,
   "id": "c20f2ab1",
   "metadata": {},
   "outputs": [
    {
     "name": "stdout",
     "output_type": "stream",
     "text": [
      "<class 'dict'>\n",
      "dict_keys(['layout_name', 'num_joints', 'keypoints_symmetry'])\n"
     ]
    }
   ],
   "source": [
    "metadata = data['metadata'].item()\n",
    "print(type(metadata))\n",
    "print(metadata.keys())"
   ]
  },
  {
   "cell_type": "code",
   "execution_count": 7,
   "id": "b817188e",
   "metadata": {},
   "outputs": [
    {
     "name": "stdout",
     "output_type": "stream",
     "text": [
      "h36m\n",
      "17\n",
      "[[4, 5, 6, 11, 12, 13], [1, 2, 3, 14, 15, 16]]\n"
     ]
    }
   ],
   "source": [
    "print(metadata['layout_name'])          # dataset name\n",
    "print(metadata['num_joints'])           # number of nodes stored in the dataset   \n",
    "print(metadata['keypoints_symmetry'])   # symmetry of the keypoints these are the keypoints \n",
    "# keypoints on leftside of the body are mirrored to the right side, i.e 4 and 1 are mirrored to each other, can observe this soon"
   ]
  },
  {
   "cell_type": "markdown",
   "id": "4ba6444b",
   "metadata": {},
   "source": [
    "#### Inspecting `Positions` dictionary"
   ]
  },
  {
   "cell_type": "code",
   "execution_count": 9,
   "id": "00d3b300",
   "metadata": {},
   "outputs": [
    {
     "name": "stdout",
     "output_type": "stream",
     "text": [
      "<class 'dict'>\n",
      "10\n",
      "Subjects: ['S6', 'S7', 'S5', 'S11', 'S1', 'S9', 'S8', 'S2', 'S3', 'S4']\n",
      "Actions for S2: ['Directions 1', 'Discussion 1', 'Eating 1', 'Greeting 1', 'Phoning 1', 'Posing 1', 'Purchases 1', 'Sitting 1', 'SittingDown 2', 'Smoking 1', 'Photo 1', 'Waiting 1', 'Walking 1', 'WalkDog 1', 'WalkTogether 1', 'Directions', 'Discussion', 'Eating 2', 'Greeting', 'Phoning', 'Posing', 'Purchases', 'Sitting', 'SittingDown 3', 'Smoking', 'Photo', 'Waiting', 'Walking', 'WalkDog', 'WalkTogether']\n",
      "Shape of S2 - Walking 1 - Cam 0: (3236, 17, 2)\n"
     ]
    }
   ],
   "source": [
    "positions = data['positions_2d'].item()\n",
    "\n",
    "print(type(positions))  # type of positions is a dictionary\n",
    "print(len(positions))   # number of subjects in the dataset\n",
    "print(\"Subjects:\", list(positions.keys()))             # number of people's motion in the dataset\n",
    "print(\"Actions for S2:\", list(positions['S2'].keys())) # Inspect actions for subject S2(one person)\n",
    "print(\"Shape of S2 - Walking 1 - Cam 0:\", positions['S2']['Walking 1'][0].shape) # Inspect shape of keypoints for a specific action and camera"
   ]
  },
  {
   "cell_type": "markdown",
   "id": "01a2cd0b",
   "metadata": {},
   "source": [
    "\n",
    "This can be interpreted as:\n",
    "\n",
    "- **3236 frames** — The number of frames in the video sequence (i.e., time steps).\n",
    "- **17 joints** — Each frame contains 17 keypoints representing human body joints (according to the Human3.6M format).\n",
    "- **2 coordinates** — Each joint is represented by 2 values: **(x, y)** position in the 2D image plane.\n",
    "\n",
    "Our dataset contains motion sequences captured with **4 simultaneous cameras** at different positions and angles.\n",
    "\n",
    "Originally, we found this dataset in the GitHub repository: [facebookresearch/VideoPose3D](https://github.com/facebookresearch/VideoPose3D).\n",
    "\n",
    "It is quite interesting, 2D to 3D pose estimation! You can check that out too if you are intrested."
   ]
  },
  {
   "cell_type": "markdown",
   "id": "a9c1634a",
   "metadata": {},
   "source": [
    "Visualising the first frame in a specific motion sequence"
   ]
  },
  {
   "cell_type": "code",
   "execution_count": 15,
   "id": "edcdd8fc",
   "metadata": {},
   "outputs": [
    {
     "data": {
      "image/png": "[encoded data removed]",
      "text/plain": [
       "<Figure size 500x500 with 1 Axes>"
      ]
     },
     "metadata": {},
     "output_type": "display_data"
    },
    {
     "name": "stdout",
     "output_type": "stream",
     "text": [
      "Shape of keypoints for all frames: (3637, 17, 2)\n",
      "Shape of keypoints in single frame: (17, 2)\n",
      "[[518.44446 432.85156]\n",
      " [542.8889  432.85156]\n",
      " [531.8889  519.5677 ]\n",
      " [539.2222  607.5052 ]\n",
      " [494.      432.85156]\n",
      " [492.77777 524.4531 ]\n",
      " [494.      611.16925]\n",
      " [527.      387.66147]\n",
      " [529.44446 333.92188]\n",
      " [523.3333  320.48697]\n",
      " [531.8889  299.72397]\n",
      " [507.44446 348.57812]\n",
      " [489.1111  401.09634]\n",
      " [475.66666 451.17188]\n",
      " [552.6667  349.79947]\n",
      " [562.44446 403.53906]\n",
      " [562.44446 454.83594]]\n"
     ]
    }
   ],
   "source": [
    "import matplotlib.pyplot as plt\n",
    "\n",
    "subject = 'S7' # Subject S7 is one of the subjects in the dataset, can change to any other subject like S1, S2, etc.\n",
    "action = 'Walking 1' # Action 'Walking 1' is one of the actions performed by the subject, can change to any other action like 'Eating', 'Smoking', etc.\n",
    "\n",
    "keypoints_all = positions[subject][action][0]  # Camera view 0 (4 cameras available: 0,1,2,3)\n",
    "# keypoints_all is a numpy array of shape (n_frames, 17, 2) where n_frames is the number of frames in the video, 17 is the number of joints, and 2 represents x and y coordinates of each joint.\n",
    "\n",
    "keypoints = keypoints_all[30]  # 30th frame\n",
    "#keypoints is a numpy array of shape (17, 2) where 17 is the number of joints and 2 represents x and y coordinates of each joint.\n",
    "\n",
    "plt.figure(figsize=(5, 5))\n",
    "plt.scatter(keypoints[:, 0], -keypoints[:, 1], c='r') # here we have to negate the y-coordinates because in the video, y-coordinates are inverted (y increases downwards)\n",
    "\n",
    "for i in range(keypoints.shape[0]): # just to label the keypoints\n",
    "    x, y = keypoints[i]\n",
    "    plt.text(x, -y, str(i), fontsize=9)\n",
    "\n",
    "plt.title(f\"{subject} - {action} - Frame 30 - Camera 0\")\n",
    "plt.axis('equal')\n",
    "plt.show()\n",
    "\n",
    "print(\"Shape of keypoints for all frames:\", keypoints_all.shape)  # Shape of all frames (n_frames, 17, 2)\n",
    "print(\"Shape of keypoints in single frame:\", keypoints.shape)  # Shape of keypoints (17, 2) - 17 joints, each with x and y coordinates\n",
    "print(keypoints)  # Printing keypoints for the first frame"
   ]
  },
  {
   "cell_type": "markdown",
   "id": "f16f17ed",
   "metadata": {},
   "source": [
    "For better visualisation, instead of just nodes (key points), we often use stick diagrams (skeleton edges) :"
   ]
  },
  {
   "cell_type": "code",
   "execution_count": 17,
   "id": "b1704641",
   "metadata": {},
   "outputs": [
    {
     "name": "stdout",
     "output_type": "stream",
     "text": [
      "16\n"
     ]
    }
   ],
   "source": [
    "# defining skeleton edges for Human3.6M Dataset (for line connections)\n",
    "skeleton_edges = [\n",
    "    (0, 1),   # Hip -> Right Hip\n",
    "    (1, 2),   # Right Hip -> Right Knee\n",
    "    (2, 3),   # Right Knee -> Right Ankle\n",
    "    (0, 4),   # Hip -> Left Hip\n",
    "    (4, 5),   # Left Hip -> Left Knee\n",
    "    (5, 6),   # Left Knee -> Left Ankle\n",
    "    (0, 7),   # Hip -> Spine\n",
    "    (7, 8),   # Spine -> Thorax\n",
    "    (8, 9),   # Thorax -> Neck\n",
    "    (9, 10),  # Neck -> Head\n",
    "\n",
    "    (8, 11),  # Thorax -> Left Shoulder\n",
    "    (11, 12), # Left Shoulder -> Left Elbow\n",
    "    (12, 13), # Left Elbow -> Left Wrist\n",
    "\n",
    "    (8, 14),  # Thorax -> Right Shoulder\n",
    "    (14, 15), # Right Shoulder -> Right Elbow\n",
    "    (15, 16)  # Right Elbow -> Right Wrist\n",
    "]\n",
    "print(len(skeleton_edges))  # type of skeleton_edges is a list"
   ]
  },
  {
   "cell_type": "markdown",
   "id": "4e3d457c",
   "metadata": {},
   "source": [
    "#### Plotting the Stick Diagram"
   ]
  },
  {
   "cell_type": "code",
   "execution_count": 19,
   "id": "afcbd756",
   "metadata": {},
   "outputs": [
    {
     "data": {
      "image/png": "[encoded data removed]",
      "text/plain": [
       "<Figure size 500x500 with 1 Axes>"
      ]
     },
     "metadata": {},
     "output_type": "display_data"
    }
   ],
   "source": [
    "plt.figure(figsize=(5,5))\n",
    "plt.scatter(keypoints[:, 0], -keypoints[:, 1], c='r', s=10)\n",
    "\n",
    "# Drawing skeleton\n",
    "for i, j in skeleton_edges:\n",
    "    x = [keypoints[i, 0], keypoints[j, 0]]\n",
    "    y = [-keypoints[i, 1], -keypoints[j, 1]]\n",
    "    plt.plot(x, y, 'b', linewidth=1)\n",
    "\n",
    "# Axes styling\n",
    "plt.xticks([]) # just to remove x-ticks\n",
    "plt.yticks([])\n",
    "plt.xlim(300, 700)\n",
    "plt.ylim(-650, -250)\n",
    "plt.gca().set_aspect('equal') #this sets the aspect ratio of the plot to be equal, so that the x and y axes are scaled equally.\n",
    "plt.title(f\"{subject} - {action}: Frame {1}\", fontsize=14)\n",
    "plt.grid(False)\n",
    "plt.show()\n"
   ]
  },
  {
   "cell_type": "markdown",
   "id": "65fde00e",
   "metadata": {},
   "source": [
    "The code below is used to draw and save frames with skeletons for each keypoint in the dataset.\n",
    "\n",
    "**Again, keep in mind that:**  \n",
    "- Each `keypoints_all` array contains all frames for a specific subject and action, from a particular camera view:\n",
    "    ```python\n",
    "    keypoints_all = positions[subject][action][0]  # Camera view 0 (4 cameras available)\n",
    "    ```\n",
    "- To access the keypoints for a single frame:\n",
    "    ```python\n",
    "    keypoints = keypoints_all[0]  # 1st frame\n",
    "    ```\n",
    "    So `keypoints` is a list which contains the node position in a single specific frame\n",
    "    \n",
    "- Here, `subject` specifies which person we want the data for (e.g., `'S7'`), and `action` specifies the activity (e.g., `'Walking 1'`, `'Sitting 1'`, etc.).\n",
    "\n",
    "A **frame** refers to a single time step in the motion sequence, containing the 2D coordinates for all 17 joints of the subject. The code visualizes these keypoints as skeletons, making it easier to analyze and process human motion data."
   ]
  },
  {
   "cell_type": "code",
   "execution_count": 21,
   "id": "e08b30ac",
   "metadata": {},
   "outputs": [],
   "source": [
    "#from matplotlib.backends.backend_agg import FigureCanvasAgg as FigureCanvas\n",
    "import cv2 # cv2 is a library for computer vision tasks, such as image processing and video manipulation.\n",
    "from tqdm import tqdm # this is used to create a progress bar for loops, can neglect this if you want\n",
    "\n",
    "width, height = 800, 800  # final video resolution\n",
    "\n",
    "def draw_skeleton_frame(keypoints, frame_idx=None): \n",
    "    fig, ax = plt.subplots(figsize=(6, 6))\n",
    "\n",
    "    x_margin = 50\n",
    "    y_margin = 50\n",
    "    x_min, x_max = keypoints[:, 0].min(), keypoints[:, 0].max()\n",
    "    y_min, y_max = keypoints[:, 1].min(), keypoints[:, 1].max()\n",
    "\n",
    "    ax.set_xlim(x_min - x_margin, x_max + x_margin)\n",
    "    ax.set_ylim(-(y_max + y_margin), -(y_min - y_margin))\n",
    "    ax.set_aspect('equal')\n",
    "    ax.axis('off')\n",
    "\n",
    "    ax.scatter(keypoints[:, 0], -keypoints[:, 1], c='blue', s=20) # here s is the size of the points\n",
    "    for i, j in skeleton_edges:\n",
    "        x = [keypoints[i, 0], keypoints[j, 0]]\n",
    "        y = [-keypoints[i, 1], -keypoints[j, 1]]\n",
    "        ax.plot(x, y, 'b-', lw=2)\n",
    "\n",
    "    if frame_idx is not None:\n",
    "        ax.set_title(f\"Frame {frame_idx}\", fontsize=12)\n",
    "\n",
    "    fig.tight_layout()\n",
    "    fig.canvas.draw()\n",
    "    img = np.asarray(fig.canvas.buffer_rgba()) # Convert the canvas to a numpy array\n",
    "    img_bgr = cv2.cvtColor(img, cv2.COLOR_RGBA2BGR) # Convert RGBA to BGR for OpenCV compatibility, RGBA is a color format used by matplotlib, while OpenCV uses BGR.\n",
    "    img_bgr = cv2.resize(img_bgr, (width, height))\n",
    "    plt.close(fig)\n",
    "    return img_bgr # this returns with skeleton drawn on it\n"
   ]
  },
  {
   "cell_type": "markdown",
   "id": "8468ac56",
   "metadata": {},
   "source": [
    "Now we try to visualise frames by cascading them to form a video. The fps of this dataset is 50\n"
   ]
  },
  {
   "cell_type": "code",
   "execution_count": 23,
   "id": "a4be3112",
   "metadata": {},
   "outputs": [
    {
     "name": "stderr",
     "output_type": "stream",
     "text": [
      "100%|████████████████████████████████████████████████████████████████████████████████| 200/200 [00:37<00:00,  5.34it/s]"
     ]
    },
    {
     "name": "stdout",
     "output_type": "stream",
     "text": [
      "\n",
      " Video saved to: skeleton_video.mp4\n"
     ]
    },
    {
     "name": "stderr",
     "output_type": "stream",
     "text": [
      "\n"
     ]
    }
   ],
   "source": [
    "# If you want to set video width and height, set them in the above cell itself.\n",
    "output_path = 'skeleton_video.mp4' # specify your output video path \n",
    "fps = 50 # set 'frames per second (fps)' with which you want to play the video, keep it at 50 only as it was shot at 50 fps.\n",
    "frame_count = 200  # change this to however many frames you want (e.g., 3236 for all)\n",
    "start_frame = 70 # can change to any starting frame\n",
    "\n",
    "# ------------ Video writer ------------\n",
    "fourcc = cv2.VideoWriter_fourcc(*'mp4v') # this line specifies the codec to be used for encoding the video, 'mp4v' is a common codec for MP4 files.\n",
    "# codec is a program that compresses and decompresses digital video, allowing it to be stored and transmitted efficiently, ignore it for now.\n",
    "video = cv2.VideoWriter(output_path, fourcc, fps, (width, height))\n",
    "# here type of video is mp4, fps is set to 50, and width and height are set to 800x800 pixels.\n",
    "\n",
    "# Iterating through frames and drawing skeletons\n",
    "for f in tqdm(range(start_frame, start_frame + frame_count)): #here tqdm is used to show a progress bar for the loop when we run the script\n",
    "    keypoints = keypoints_all[f]  # shape: (17, 2) x,y and 17 joints for each frame\n",
    "    frame_img = draw_skeleton_frame(keypoints, f)\n",
    "    video.write(frame_img)\n",
    "\n",
    "video.release()\n",
    "print(\"\\n\" , f\"Video saved to: {output_path}\")"
   ]
  },
  {
   "cell_type": "code",
   "execution_count": 25,
   "id": "8ed092ac",
   "metadata": {},
   "outputs": [
    {
     "data": {
      "text/plain": [
       "CompletedProcess(args=['start', 'skeleton_video.mp4'], returncode=0)"
      ]
     },
     "execution_count": 25,
     "metadata": {},
     "output_type": "execute_result"
    }
   ],
   "source": [
    "# Now the video will be saved in the same directory as this file is,\n",
    "# but let's not waste time by again and again going there through file explorer and hit play.\n",
    "# If we were doing this on a simple py file through terminal, we could've used terminal itself to open the video file,\n",
    "# but we can make terminal calls through our program itself.\n",
    "\n",
    "subprocess.run(['start', 'skeleton_video.mp4'], shell=True)  # This line will open the output video, this is for Windows!\n",
    "\n",
    "# If you are on Linux, you can use:\n",
    "# subprocess.run(['xdg-open', 'skeleton_video.mp4'], shell=True)\n",
    "\n",
    "# If you are on Mac, you can use:\n",
    "# subprocess.run(['open', 'skeleton_video.mp4'], shell=True)"
   ]
  },
  {
   "cell_type": "markdown",
   "id": "8905ad89",
   "metadata": {},
   "source": [
    " If you watch the video, you may see the skeleton \"shaking\" or jittering, To address this, we apply a 1D Gaussian filter with adjustable variance (sigma) to smooth the keypoint trajectories over time. This reduces high-frequency noise and makes the motion appear more natural and stable. Think about why smoothing in the temporal domain helps reduce visual jitter, it's because it averages out rapid, small fluctuations, preserving the overall motion while suppressing noise."
   ]
  },
  {
   "cell_type": "markdown",
   "id": "2e0084fd",
   "metadata": {},
   "source": [
    "## Gaussian Filter\n",
    "\n",
    "The Gaussian filter is a powerful tool for smoothing time-series data, such as 2D keypoint trajectories in motion capture. In this context, the filter is applied **temporally**, i.e. it smooths each joint's (x, y) coordinates across frames, not spatially within a single frame. This helps reduce jitter and noise in the motion sequence, making the movement appear more natural.\n",
    "\n",
    "### How it works\n",
    "\n",
    "- For each joint, and for each coordinate (x and y), the filter processes the sequence of values over time (across frames).\n",
    "- The filter replaces each value with a weighted average of its neighbors, where the weights follow a Gaussian (bell-shaped) curve centered at the current frame.\n",
    "- The amount of smoothing is controlled by the parameter $\\sigma$ (sigma): higher values mean more smoothing.\n",
    "\n",
    "### Mathematically\n",
    "\n",
    "Given a time series $x_t$ (e.g., the x-coordinate of a joint at frame $t$), the Gaussian filter computes the smoothed value $\\tilde{x}_t$ as:\n",
    "\n",
    "$$\n",
    "\\tilde{x}_t = \\sum_{k=-K}^{K} w_k \\, x_{t+k}\n",
    "$$\n",
    "\n",
    "where the weights $w_k$ are defined by the Gaussian function:\n",
    "\n",
    "$$\n",
    "w_k = \\frac{1}{\\sqrt{2\\pi}\\sigma} \\exp\\left(-\\frac{k^2}{2\\sigma^2}\\right)\n",
    "$$\n",
    "\n",
    "and the weights are normalized so that $\\sum_k w_k = 1$.\n",
    "\n",
    "- $t$ is the current frame index.\n",
    "- $k$ ranges over neighboring frames.\n",
    "- $\\sigma$ controls the width of the Gaussian kernel, try tweaking it to see what happens below.\n",
    "\n",
    "This process is repeated independently for each joint and each coordinate (x and y). This approach is widely used in signal processing and computer vision to enhance the quality of sequential data."
   ]
  },
  {
   "cell_type": "code",
   "execution_count": 27,
   "id": "f816a7f3",
   "metadata": {},
   "outputs": [],
   "source": [
    "from scipy.ndimage import gaussian_filter1d\n",
    "\n",
    "def smooth_trajectory(keypoints_2d, sigma=2.0):\n",
    "    \"\"\"\n",
    "    Apply Gaussian smoothing to 2D keypoint trajectories.\n",
    "    \n",
    "    Parameters:\n",
    "        keypoints_2d: np.ndarray\n",
    "            Array of shape (num_frames, num_joints, 2)\n",
    "        sigma: float\n",
    "            Standard deviation for Gaussian filter\n",
    "    \n",
    "    Returns:\n",
    "        smoothed_keypoints: np.ndarray\n",
    "            Smoothed array of same shape\n",
    "\n",
    "    \"\"\"\n",
    "    smoothed = np.zeros_like(keypoints_2d) #creates an array of zeros with the same shape as keypoints_2d (num_frames, num_joints, 2)\n",
    "\n",
    "    # Smooth each joint and coordinate separately\n",
    "    for joint in range(keypoints_2d.shape[1]): #here keypoints_2d.shape[1] gives the number of joints, if it were keypoints_2d.shape[0] it would give the number of frames\n",
    "        for coord in range(2):  # x and y\n",
    "            smoothed[:, joint, coord] = gaussian_filter1d(\n",
    "                keypoints_2d[:, joint, coord],\n",
    "                sigma=sigma,\n",
    "                mode='nearest'  # Handles edge effects\n",
    "            )\n",
    "\n",
    "    return smoothed"
   ]
  },
  {
   "cell_type": "markdown",
   "id": "55f301b2",
   "metadata": {},
   "source": [
    "This is the same code now converted to function for accessing it many times!!"
   ]
  },
  {
   "cell_type": "code",
   "execution_count": 29,
   "id": "e661fcfe",
   "metadata": {},
   "outputs": [],
   "source": [
    "def write_skeleton_video(\n",
    "    keypoints_all,                 # shape: (num_frames, 17, 2)\n",
    "    draw_skeleton_frame_fn,        # function to draw a single frame, yes you can pass a function as an argument to another function\n",
    "    output_path,\n",
    "    fps=50,\n",
    "    width=640,\n",
    "    height=480,\n",
    "    start_frame=0,\n",
    "    frame_count=200\n",
    "):\n",
    "    \"\"\"\n",
    "    Saves a video of skeletons given 2D keypoints over time.\n",
    "\n",
    "    Parameters:\n",
    "    - keypoints_all: numpy array of shape (num_frames, 17, 2)\n",
    "    - draw_skeleton_frame_fn: function that takes (keypoints, frame_idx) and returns an image (H, W, 3)\n",
    "    - output_path: path to save the video\n",
    "    - fps: frames per second\n",
    "    - width, height: size of video frames\n",
    "    - start_frame: index to start from\n",
    "    - frame_count: number of frames to render\n",
    "    \"\"\"\n",
    "    fourcc = cv2.VideoWriter_fourcc(*'mp4v')\n",
    "    video = cv2.VideoWriter(output_path, fourcc, fps, (width, height))\n",
    "\n",
    "    for f in tqdm(range(start_frame, start_frame + frame_count)):\n",
    "        keypoints = keypoints_all[f]\n",
    "        frame_img = draw_skeleton_frame_fn(keypoints, f)\n",
    "        video.write(frame_img)\n",
    "\n",
    "    video.release()\n",
    "    print('\\n',f\"Video saved to: {output_path}\")\n"
   ]
  },
  {
   "cell_type": "markdown",
   "id": "7d2acd3f",
   "metadata": {},
   "source": [
    "Now let's smoothen the previously drawn skeleton video using Gaussian smoothing."
   ]
  },
  {
   "cell_type": "code",
   "execution_count": 31,
   "id": "f8e3393d",
   "metadata": {},
   "outputs": [
    {
     "name": "stderr",
     "output_type": "stream",
     "text": [
      "100%|████████████████████████████████████████████████████████████████████████████████| 200/200 [00:39<00:00,  5.04it/s]\n"
     ]
    },
    {
     "name": "stdout",
     "output_type": "stream",
     "text": [
      "\n",
      " Video saved to: smoothed_skeleton_video.mp4\n"
     ]
    },
    {
     "data": {
      "text/plain": [
       "CompletedProcess(args=['start', 'smoothed_skeleton_video.mp4'], returncode=0)"
      ]
     },
     "execution_count": 31,
     "metadata": {},
     "output_type": "execute_result"
    }
   ],
   "source": [
    "sigma = 3  # Increase for more smoothing but dont go too high or observe it if you want\n",
    "smoothed_keypoints = smooth_trajectory(keypoints_all, sigma=sigma)\n",
    "write_skeleton_video(\n",
    "    smoothed_keypoints,\n",
    "    draw_skeleton_frame,\n",
    "    output_path='smoothed_skeleton_video.mp4',\n",
    "    fps=50,\n",
    "    width=800,\n",
    "    height=800,\n",
    "    start_frame=70,  \n",
    "    frame_count=200  \n",
    ")\n",
    "subprocess.run(['start', 'smoothed_skeleton_video.mp4'], shell=True)  # to open the smoothed video, again this is for Windows, change it according to your OS as mentioned above."
   ]
  },
  {
   "cell_type": "code",
   "execution_count": 33,
   "id": "27b1c350",
   "metadata": {},
   "outputs": [
    {
     "data": {
      "text/plain": [
       "CompletedProcess(args=['start', 'smooth_compare.mp4'], returncode=0)"
      ]
     },
     "execution_count": 33,
     "metadata": {},
     "output_type": "execute_result"
    }
   ],
   "source": [
    "# Just to compare the original and smoothed videos side by side, we will create a new video that combines both.\n",
    "\n",
    "vid1 = cv2.VideoCapture('skeleton_video.mp4')\n",
    "vid2 = cv2.VideoCapture('smoothed_skeleton_video.mp4')\n",
    "\n",
    "# ------------ Video writer ------------\n",
    "fourcc = cv2.VideoWriter_fourcc(*'mp4v')\n",
    "out = cv2.VideoWriter('smooth_compare.mp4', fourcc, fps, (width * 2, height))\n",
    "\n",
    "while True:\n",
    "    ret1, frame1 = vid1.read()\n",
    "    ret2, frame2 = vid2.read()\n",
    "    if not ret1 or not ret2:\n",
    "        break\n",
    "    # Stacking frames horizontally\n",
    "    combined_frame = cv2.hconcat([frame1, frame2])\n",
    "    out.write(combined_frame)\n",
    "\n",
    "vid1.release() # It is necessary to release the video capture objects, it will free up a lot of resources cv2 has used.\n",
    "vid2.release() \n",
    "out.release()\n",
    "\n",
    "subprocess.run(['start', 'smooth_compare.mp4'], shell=True) # again this is for Windows!\n"
   ]
  },
  {
   "cell_type": "markdown",
   "id": "314a808c",
   "metadata": {},
   "source": [
    "- Notice how the skeleton now moves more smoothly and with less jitter.\n",
    "- Can you think of a neural network framework that could be trained to remove this type of noise? Feel free to explore resources or references online and don’t worry about whether it can outperform the Gaussian filter, just consider the possibilities!"
   ]
  },
  {
   "cell_type": "markdown",
   "id": "8fb5fca9",
   "metadata": {},
   "source": [
    "Moving on, now that we have almost all frames in our dataset sequences, to develop a missing frame filler, we first need a video sequence with some missing frames. We will randomly omit a few frames from our video. These omitted frames will be used later to compare our reconstructed results with the actual ground-truth frames and evaluate the performance of our interpolation methods."
   ]
  },
  {
   "cell_type": "code",
   "execution_count": 35,
   "id": "0e9bc8a8",
   "metadata": {},
   "outputs": [
    {
     "data": {
      "image/png": "[encoded data removed]",
      "text/plain": [
       "<Figure size 1200x200 with 1 Axes>"
      ]
     },
     "metadata": {},
     "output_type": "display_data"
    }
   ],
   "source": [
    "segment_len = 200                  # Total frames\n",
    "rng = np.random.default_rng(42)\n",
    "mask = rng.choice([1, 0], size=segment_len, p=[0.7, 0.3])  # 1 = known, 0 = missing \n",
    "# Roughly 70% known frames and 30% missing frames\n",
    "\n",
    "# Plotting bars for known and missing\n",
    "fig, ax = plt.subplots(figsize=(12, 2))\n",
    "x = np.arange(segment_len)\n",
    "for i in range(segment_len):\n",
    "    color = 'green' if mask[i] == 1 else 'red'\n",
    "    ax.bar(i, 1, color=color, edgecolor='none', width=1.0)\n",
    "\n",
    "# Styling\n",
    "ax.set_xlim(0, segment_len)\n",
    "ax.set_ylim(0, 1.1)\n",
    "ax.set_xticks(np.linspace(0, segment_len, 11).astype(int))\n",
    "ax.set_yticks([])\n",
    "ax.set_xlabel('Frame Index')\n",
    "ax.set_title('Visualization of Dropped (Missing) and Kept (Known) Frames')\n",
    "legend_elements = [\n",
    "    plt.Line2D([0], [0], color='green', lw=6, label='Known Frame'),\n",
    "    plt.Line2D([0], [0], color='red', lw=6, label='Missing Frame')\n",
    "]\n",
    "ax.legend(handles=legend_elements, loc='upper right')\n",
    "\n",
    "plt.tight_layout()\n",
    "plt.show()\n"
   ]
  },
  {
   "cell_type": "markdown",
   "id": "6abf29e4",
   "metadata": {},
   "source": [
    "Here it is harder to visually identify missing and known frames in a long sequence, so I have created a grid structure with rows and columns. In this grid, **green** cells represent known frames and **red** cells represent missing frames. For example, if the 2nd row and 3rd column element is missing, its frame index is `(3-1) + (2-1) × 20 = 22` (since there are 20 columns per row). This visualization makes it easier to spot patterns and locations of missing data in the sequence with numbers printed on the cells.\n"
   ]
  },
  {
   "cell_type": "code",
   "execution_count": 37,
   "id": "a0c2d9e2",
   "metadata": {},
   "outputs": [
    {
     "name": "stderr",
     "output_type": "stream",
     "text": [
      "100%|██████████████████████████████████████████████████████████████████████████████████| 10/10 [00:00<00:00, 21.26it/s]\n"
     ]
    },
    {
     "data": {
      "image/png": "[encoded data removed]",
      "text/plain": [
       "<Figure size 1000x500 with 1 Axes>"
      ]
     },
     "metadata": {},
     "output_type": "display_data"
    }
   ],
   "source": [
    "\n",
    "rows, cols = 10, 20\n",
    "segment_len = rows * cols\n",
    "\n",
    "fig, ax = plt.subplots(figsize=(10, 5))\n",
    "cmap = {0: 'red', 1: 'green'}\n",
    "\n",
    "mask_grid = mask.reshape((rows, cols))\n",
    "\n",
    "for r in tqdm(range(rows)):\n",
    "    for c in range(cols):\n",
    "        color = cmap[mask_grid[r, c]]\n",
    "        rect = plt.Rectangle((c, rows - 1 - r), 1, 1, facecolor=color, edgecolor='white')\n",
    "        ax.add_patch(rect)\n",
    "        # Adding frame number at the center of each cell\n",
    "        frame_idx = r * cols + c\n",
    "        ax.text(c + 0.5, rows - 1 - r + 0.5, str(frame_idx), \n",
    "                color='white', ha='center', va='center', fontsize=10)\n",
    "\n",
    "ax.set_xlim(0, cols)\n",
    "ax.set_ylim(0, rows)\n",
    "ax.set_xticks([])\n",
    "ax.set_yticks([])\n",
    "ax.set_title(\"Missing (Red) vs Known (Green) Frames in 10×20 Grid\", fontsize=14)\n",
    "\n",
    "import matplotlib.patches as mpatches\n",
    "green_patch = mpatches.Patch(color='green', label='Known Frame')\n",
    "red_patch = mpatches.Patch(color='red', label='Missing Frame')\n",
    "ax.legend(handles=[green_patch, red_patch], loc='lower right')\n",
    "\n",
    "plt.gca().set_aspect('equal')\n",
    "plt.tight_layout()\n",
    "plt.show()\n"
   ]
  },
  {
   "cell_type": "code",
   "execution_count": 39,
   "id": "63992f85",
   "metadata": {},
   "outputs": [
    {
     "name": "stdout",
     "output_type": "stream",
     "text": [
      "Frame 184 is missing\n"
     ]
    }
   ],
   "source": [
    "frame_num = 184\n",
    "\n",
    "print(f\"Frame {frame_num} is {'missing' if mask[frame_num] == 0 else 'known'}\")\n"
   ]
  },
  {
   "cell_type": "markdown",
   "id": "5fd2eb99",
   "metadata": {},
   "source": [
    "### Cubic and Linear Spline Interpolation\n",
    "\n",
    "Cubic and linear spline interpolation are powerful techniques used to construct smooth curves that pass through a given set of data points. Both methods rely on piecewise polynomials, but splines are specifically designed to ensure continuity across intervals—often in terms of value, slope, and curvature.\n",
    "A clear introduction along with a `scipy` implementation can be found here:\n",
    "🔗 [Cubic Spline Interpolation – GeeksforGeeks](https://www.geeksforgeeks.org/machine-learning/cubic-spline-interpolation/)\n",
    "\n",
    "You might loosely relate this to Taylor series, as both involve polynomial approximations. However, Taylor series approximate a function locally using derivatives at a single point, while spline interpolation connects multiple polynomial segments to achieve smoothness across an entire domain. (You can skip this comparison if it's unfamiliar.)\n",
    "\n",
    "For a more visual and geometric understanding of splines, we highly recommend watching:\n",
    "🔗 [The Continuity of Splines – Freya Holmér](https://youtu.be/jvPPXbo87ds?si=na12VcpqyAb1UHBt)\n",
    "Though not all parts are essential, it's an excellent resource for appreciating the mathematical beauty behind spline interpolation."
   ]
  },
  {
   "cell_type": "code",
   "execution_count": 37,
   "id": "d5093a44",
   "metadata": {},
   "outputs": [],
   "source": [
    "from scipy.interpolate import interp1d, CubicSpline\n",
    "\n",
    "joint_idx = 0  # Choose a joint to interpolate, e.g., 0 for the first joint\n",
    "known_frames = np.where(mask == 1)[0]  # Indices of known frames    \n",
    "known_keypoints = keypoints_all[known_frames, joint_idx]  # Extracting known keypoints for the joint\n",
    "#Creating cubic spline interpolator\n",
    "spline = CubicSpline(known_frames, known_keypoints, axis=0)\n",
    "# This is for interpolating for all frames"
   ]
  },
  {
   "cell_type": "markdown",
   "id": "1086d97f",
   "metadata": {},
   "source": [
    "We actually want to predict each missing frame using only its nearby frames, rather than the entire sequence. Using 3–4 neighboring frames for spline interpolation is more realistic and prevents the interpolator from being influenced by distant frames that may not reflect the local motion. \n",
    "\n",
    "**Think about why using only local neighbors might produce more accurate and natural-looking results for filling missing frames.**"
   ]
  },
  {
   "cell_type": "code",
   "execution_count": 41,
   "id": "ba2284d5",
   "metadata": {},
   "outputs": [
    {
     "name": "stdout",
     "output_type": "stream",
     "text": [
      "Number of missing frame windows: 57\n",
      "First 3 windows: [[0, 1, 2, 3, 4], [3, 4, 5, 6, 7], [4, 5, 6, 7, 8]]\n"
     ]
    }
   ],
   "source": [
    "def get_local_windows_around_missing(mask, window_radius=2):\n",
    "    \"\"\"\n",
    "    For each missing frame, extract its local window [i-2, ..., i+2]\n",
    "    Only include if the full window fits within the bounds.\n",
    "\n",
    "    Returns:\n",
    "        list of lists: Each inner list is [i-2, ..., i+2] for a missing index\n",
    "    \"\"\"\n",
    "    local_windows = []\n",
    "    N = len(mask)\n",
    "\n",
    "    for i in range(N):\n",
    "        if mask[i] == 0:\n",
    "            # Checking bounds\n",
    "            if i - window_radius >= 0 and i + window_radius < N:\n",
    "                window = list(range(i - window_radius, i + window_radius + 1))\n",
    "                local_windows.append(window)\n",
    "\n",
    "    return local_windows\n",
    "\n",
    "windowed_missing_regions = get_local_windows_around_missing(mask, window_radius=2)\n",
    "print(f\"Number of missing frame windows: {len(windowed_missing_regions)}\")\n",
    "print(\"First 3 windows:\", windowed_missing_regions[:3])\n"
   ]
  },
  {
   "cell_type": "code",
   "execution_count": 43,
   "id": "95aa011c",
   "metadata": {},
   "outputs": [
    {
     "name": "stdout",
     "output_type": "stream",
     "text": [
      "58\n",
      "[0 1 0 1 1 0 0 0 1 1 1 0 1 0 1 1 1 1 0 1 0 1 0 0 0 1 1 1 1 1 0 0 1 1 1 1 1\n",
      " 1 1 1 1 0 0 1 0 0 1 1 1 1 1 1 0 1 0 0 1 1 1 1 1 1 1 0 1 1 1 1 1 1 1 1 0 1\n",
      " 1 1 1 1 1 0 1 1 0 1 1 1 0 1 1 1 1 1 1 1 1 1 1 1 1 0 0 1 1 0 0 0 1 1 1 0 1\n",
      " 1 1 1 1 0 0 0 1 1 1 1 1 1 1 1 1 1 1 1 1 0 1 1 1 1 0 1 0 1 1 1 0 1 1 1 1 1\n",
      " 1 1 0 0 1 1 1 1 1 1 0 0 1 0 1 1 1 1 0 0 1 0 1 1 1 0 1 1 1 0 0 0 0 0 1 1 0\n",
      " 1 1 1 0 1 0 1 1 0 1 1 1 0 1 1]\n"
     ]
    }
   ],
   "source": [
    "missing_count = np.sum(mask == 0)\n",
    "print(missing_count)\n",
    "print(mask)"
   ]
  },
  {
   "cell_type": "markdown",
   "id": "c4af0ebb",
   "metadata": {},
   "source": [
    "We see that the first frame is gone and locally It isnt possible to reconstruct it but we can apply result of suppose the first interpolator constructed on this! This doesn't feel too bad either as the probability that our missing frame lies at the ends is less!"
   ]
  },
  {
   "cell_type": "markdown",
   "id": "d69c3afd",
   "metadata": {},
   "source": [
    "### Local Linear and Cubic Interpolation of Missing Frames\n",
    "\n",
    "To reconstruct missing 2D keypoints:\n",
    "\n",
    "- We identify frames with missing data using a binary `mask`.\n",
    "- For each missing frame `t`, we search for 2 known frames before and after `t`.\n",
    "- If at least 2 frames on either side exist:\n",
    "  - We fit either:\n",
    "    - **Linear interpolation** using `np.interp`.\n",
    "    - **Cubic Spline interpolation** using `scipy.interpolate.CubicSpline`.\n",
    "    For finding about the spline interpolation some material will be provided and go take a look at the documentation for the function details\n",
    "  - We apply this interpolation  for x and y coordinates of all 17 joints.\n",
    "- Frames at boundaries (without enough neighbors) are skipped.\n",
    "\n",
    "This ensures the interpolation is **local** and based only on nearby data.\n"
   ]
  },
  {
   "cell_type": "code",
   "execution_count": 45,
   "id": "f47be69d",
   "metadata": {},
   "outputs": [],
   "source": [
    "from scipy.interpolate import interp1d, CubicSpline\n",
    "import numpy as np\n",
    "\n",
    "def local_joint_interpolation(mask, joint_trajectory, method='cubic'):\n",
    "    \"\"\"\n",
    "    Performing local interpolation for missing frames using 4-neighbor strategy\n",
    "    on a single joint's 2D trajectory (shape: [T, 2]).\n",
    "\n",
    "    Parameters:\n",
    "        mask (np.ndarray): Binary mask of shape (T,), 1=known, 0=missing\n",
    "        joint_trajectory (np.ndarray): Array of shape (T, 2)\n",
    "        method (str): 'cubic' or 'linear'\n",
    "\n",
    "    Returns:\n",
    "        np.ndarray: Reconstructed joint trajectory of shape (T, 2)\n",
    "    \"\"\"\n",
    "    T = joint_trajectory.shape[0]\n",
    "    reconstructed = joint_trajectory.copy()\n",
    "\n",
    "    for t in range(T):\n",
    "        if mask[t] == 1:\n",
    "            continue\n",
    "\n",
    "        # Finding 2 known before and 2 after\n",
    "        before = [i for i in range(t - 1, -1, -1) if mask[i] == 1][:2]\n",
    "        after = [i for i in range(t + 1, T) if mask[i] == 1][:2]\n",
    "        neighbors = sorted(before + after)\n",
    "\n",
    "        if len(neighbors) < 4:\n",
    "            continue  # Not enough for local interpolation\n",
    "\n",
    "        known_vectors = joint_trajectory[neighbors]  # shape (4, 2)\n",
    "\n",
    "        if method == 'cubic':\n",
    "            cs = CubicSpline(neighbors, known_vectors, axis=0, bc_type='natural')\n",
    "            reconstructed[t] = cs(t)\n",
    "        elif method == 'linear':\n",
    "            lin = interp1d(neighbors, known_vectors, kind='linear', axis=0, fill_value='extrapolate')\n",
    "            reconstructed[t] = lin(t)\n",
    "        else:\n",
    "            raise ValueError(\"Method must be 'cubic' or 'linear'\")\n",
    "\n",
    "    return reconstructed\n"
   ]
  },
  {
   "cell_type": "markdown",
   "id": "5537d870",
   "metadata": {},
   "source": [
    "The above one is for only one joint so we loop over all joints "
   ]
  },
  {
   "cell_type": "code",
   "execution_count": 47,
   "id": "2eefce74",
   "metadata": {},
   "outputs": [],
   "source": [
    "def reconstruct_all_joints(mask, keypoints_segment, method='cubic'):\n",
    "    segment_len = keypoints_segment.shape[0]\n",
    "    recon_all = np.copy(keypoints_segment)\n",
    "\n",
    "    for joint_id in range(17):\n",
    "        joint_traj = keypoints_segment[:, joint_id, :]  # (T, 2)\n",
    "        recon = local_joint_interpolation(mask, joint_traj, method=method)\n",
    "        recon_all[:, joint_id, :] = recon\n",
    "\n",
    "    return recon_all\n"
   ]
  },
  {
   "cell_type": "code",
   "execution_count": 49,
   "id": "05500636",
   "metadata": {},
   "outputs": [],
   "source": [
    "# Apply both types of interpolation\n",
    "keypoints_segment = keypoints_all[start_frame:segment_len+start_frame]  # Use the segment of interest\n",
    "recon_cubic_all = reconstruct_all_joints(mask, keypoints_segment, method='cubic')\n",
    "recon_linear_all = reconstruct_all_joints(mask, keypoints_segment, method='linear')\n"
   ]
  },
  {
   "cell_type": "markdown",
   "id": "5fbbb4ad",
   "metadata": {},
   "source": [
    "To evaluate the reconstruction quality of interpolated 2D keypoints, we define an error metric based on the **Euclidean distance** between the true and reconstructed joint positions.\n",
    "\n",
    "#### Defining error\n",
    "\n",
    "Let:\n",
    "- $\\hat{\\mathbf{p}}_{t,j} \\in \\mathbb{R}^2$ be the **reconstructed** position of joint $j$ at time $t$\n",
    "- $\\mathbf{p}_{t,j} \\in \\mathbb{R}^2$ be the **ground-truth** position of joint $j$ at time $t$\n",
    "- $\\mathcal{M}$ be the set of all **missing frame indices** (i.e., frames where interpolation was applied)\n",
    "\n",
    "For each missing frame $t \\in \\mathcal{M}$, we compute the squared error between ground truth and reconstructed vectors concatenated over all 17 joints:\n",
    "\n",
    "$$\n",
    "\\text{MSE}_t = \\frac{1}{34} \\sum_{j=1}^{17} \\left\\| \\mathbf{p}_{t,j} - \\hat{\\mathbf{p}}_{t,j} \\right\\|^2\n",
    "$$\n",
    "\n",
    "- Then compute the **average MSE across all missing frames**:\n",
    "  \n",
    "  $$\n",
    "  \\text{Final MSE} = \\frac{1}{N} \\sum_{i \\in \\text{missing}} \\text{MSE}_i\n",
    "  $$\n",
    "\n",
    "\n",
    "#### Interpretation\n",
    "\n",
    "- The error is measured in the same units as the keypoint coordinates (e.g., pixels).\n",
    "- A lower error indicates better interpolation performance.\n",
    "- This metric captures deviations over **both spatial dimensions (x and y)** across **all joints**.\n",
    "\n"
   ]
  },
  {
   "cell_type": "code",
   "execution_count": 51,
   "id": "745d5602",
   "metadata": {},
   "outputs": [],
   "source": [
    "def compute_reconstruction_error_mse(ground_truth, reconstructed, mask):\n",
    "    \"\"\"\n",
    "    Computes the Mean Squared Error between full body (17x2) vectors\n",
    "    for missing frames only.\n",
    "\n",
    "    Parameters:\n",
    "        ground_truth (np.ndarray): Shape (T, 17, 2)\n",
    "        reconstructed (np.ndarray): Shape (T, 17, 2)\n",
    "        mask (np.ndarray): Shape (T,), 1=known, 0=missing\n",
    "\n",
    "    Returns:\n",
    "        float: Average MSE over missing frames\n",
    "        np.ndarray: MSE per missing frame\n",
    "        max_idx: Index of the frame with maximum MSE\n",
    "    \"\"\"\n",
    "    missing_idxs = np.where(mask == 0)[0]\n",
    "    if len(missing_idxs) == 0:\n",
    "        return 0.0, np.array([])\n",
    "\n",
    "    # Reshape each frame to (34,) = (17 joints × 2 coordinates)\n",
    "    gt_flat = ground_truth[missing_idxs].reshape(len(missing_idxs), -1)\n",
    "    recon_flat = reconstructed[missing_idxs].reshape(len(missing_idxs), -1)\n",
    "\n",
    "    # Compute squared L2 distance\n",
    "    mse_per_frame = np.mean((gt_flat - recon_flat) ** 2, axis=1)  # per-frame MSE\n",
    "    max_idx = np.argmax(mse_per_frame)\n",
    "    avg_mse = np.mean(mse_per_frame)\n",
    "    return avg_mse, mse_per_frame,max_idx\n"
   ]
  },
  {
   "cell_type": "code",
   "execution_count": 53,
   "id": "d2c9fdd5",
   "metadata": {},
   "outputs": [
    {
     "name": "stdout",
     "output_type": "stream",
     "text": [
      "Interpolation Error Metrics\n",
      " Cubic Spline MSE        : 1.6559\n",
      " Linear Interpolation MSE: 1.1721\n"
     ]
    }
   ],
   "source": [
    "errors_cubic, cubic_mse_pf, c1 = compute_reconstruction_error_mse(keypoints_segment, recon_cubic_all, mask)\n",
    "errors_linear, linear_mse_pf, l1 = compute_reconstruction_error_mse(keypoints_segment, recon_linear_all, mask)\n",
    "\n",
    "# Print the results\n",
    "print(\"Interpolation Error Metrics\")\n",
    "print(f\" Cubic Spline MSE        : {errors_cubic:.4f}\")\n",
    "print(f\" Linear Interpolation MSE: {errors_linear:.4f}\")\n"
   ]
  },
  {
   "cell_type": "markdown",
   "id": "5caf6dc8",
   "metadata": {},
   "source": [
    "How do we know whether this is fine or not ? Think about this"
   ]
  },
  {
   "cell_type": "code",
   "execution_count": 55,
   "id": "a7dfe2c7",
   "metadata": {},
   "outputs": [
    {
     "data": {
      "image/png": "[encoded data removed]",
      "text/plain": [
       "<Figure size 600x600 with 1 Axes>"
      ]
     },
     "metadata": {},
     "output_type": "display_data"
    }
   ],
   "source": [
    "# Choose a missing frame index (e.g., first missing frame)\n",
    "missing_idxs = np.where(mask == 0)[0]\n",
    "frame_to_show = missing_idxs[c1]  \n",
    "\n",
    "gt = keypoints_segment[frame_to_show]        \n",
    "recon = recon_cubic_all[frame_to_show]           \n",
    "\n",
    "fig, ax = plt.subplots(figsize=(6, 6))\n",
    "\n",
    "# Set axis limits with margin\n",
    "all_x = np.concatenate([gt[:, 0], recon[:, 0]])\n",
    "all_y = np.concatenate([gt[:, 1], recon[:, 1]])\n",
    "margin = 50\n",
    "ax.set_xlim(all_x.min() - margin, all_x.max() + margin)\n",
    "ax.set_ylim(-(all_y.max() + margin), -(all_y.min() - margin))\n",
    "ax.set_aspect('equal')\n",
    "ax.axis('off')\n",
    "\n",
    "# Ground-truth (blue)\n",
    "ax.scatter(gt[:, 0], -gt[:, 1], c='blue', s=30, label='Ground Truth')\n",
    "for i, j in skeleton_edges:\n",
    "    ax.plot([gt[i, 0], gt[j, 0]], [-gt[i, 1], -gt[j, 1]], 'b-', lw=2)\n",
    "\n",
    "# Reconstructed (green, transparent)\n",
    "ax.scatter(recon[:, 0], -recon[:, 1], c='green', s=30, alpha=0.5, label='Reconstructed')\n",
    "for i, j in skeleton_edges:\n",
    "    ax.plot([recon[i, 0], recon[j, 0]], [-recon[i, 1], -recon[j, 1]], color='green', lw=2, alpha=0.5)\n",
    "\n",
    "ax.set_title(f\"Missing Frame {frame_to_show} - Cubic Interpolation\", fontsize=14)\n",
    "ax.legend(fontsize=8)\n",
    "plt.show()\n"
   ]
  },
  {
   "cell_type": "code",
   "execution_count": 55,
   "id": "2c92f949",
   "metadata": {},
   "outputs": [
    {
     "data": {
      "image/png": "[encoded data removed]",
      "text/plain": [
       "<Figure size 600x600 with 1 Axes>"
      ]
     },
     "metadata": {},
     "output_type": "display_data"
    }
   ],
   "source": [
    "# Choose a missing frame index (e.g., first missing frame)\n",
    "missing_idxs = np.where(mask == 0)[0]\n",
    "frame_to_show = missing_idxs[l1]  \n",
    "\n",
    "gt = keypoints_segment[frame_to_show]        \n",
    "recon = recon_cubic_all[frame_to_show]           \n",
    "\n",
    "fig, ax = plt.subplots(figsize=(6, 6))\n",
    "\n",
    "# Set axis limits with margin\n",
    "all_x = np.concatenate([gt[:, 0], recon[:, 0]])\n",
    "all_y = np.concatenate([gt[:, 1], recon[:, 1]])\n",
    "margin = 50\n",
    "ax.set_xlim(all_x.min() - margin, all_x.max() + margin)\n",
    "ax.set_ylim(-(all_y.max() + margin), -(all_y.min() - margin))\n",
    "ax.set_aspect('equal')\n",
    "ax.axis('off')\n",
    "\n",
    "# Ground-truth (blue)\n",
    "ax.scatter(gt[:, 0], -gt[:, 1], c='blue', s=30, label='Ground Truth')\n",
    "for i, j in skeleton_edges:\n",
    "    ax.plot([gt[i, 0], gt[j, 0]], [-gt[i, 1], -gt[j, 1]], 'b-', lw=2)\n",
    "\n",
    "# Reconstructed (green, transparent)\n",
    "ax.scatter(recon[:, 0], -recon[:, 1], c='green', s=30, alpha=0.5, label='Reconstructed')\n",
    "for i, j in skeleton_edges:\n",
    "    ax.plot([recon[i, 0], recon[j, 0]], [-recon[i, 1], -recon[j, 1]], color='green', lw=2, alpha=0.5)\n",
    "\n",
    "ax.set_title(f\"Missing Frame {frame_to_show} - Linear Interpolation\", fontsize=14)\n",
    "ax.legend(fontsize=8)\n",
    "plt.show()\n"
   ]
  },
  {
   "cell_type": "markdown",
   "id": "fc38af3c",
   "metadata": {},
   "source": [
    "Here we find the index where the error is maximum and seems like a good fit for model , if you look for any other Missing frames they almost overlap indicating a very good sign of interpolation!"
   ]
  },
  {
   "cell_type": "markdown",
   "id": "a61a81ef",
   "metadata": {},
   "source": [
    "# Video comparision of both our reconstructed and actual frames!"
   ]
  },
  {
   "cell_type": "code",
   "execution_count": 57,
   "id": "e791f92b",
   "metadata": {},
   "outputs": [],
   "source": [
    "def draw_side_by_side_skeleton(original_kp, reconstructed_kp, frame_idx=None, title=\"Side-by-Side Comparison\"):\n",
    "    fig, axs = plt.subplots(1, 2, figsize=(10, 5))\n",
    "\n",
    "    for ax, keypoints, label in zip(\n",
    "        axs, [original_kp, reconstructed_kp], [\"Original\", \"Reconstructed\"]\n",
    "    ):\n",
    "        x_margin, y_margin = 50, 50\n",
    "        x_min, x_max = keypoints[:, 0].min(), keypoints[:, 0].max()\n",
    "        y_min, y_max = keypoints[:, 1].min(), keypoints[:, 1].max()\n",
    "\n",
    "        ax.set_xlim(x_min - x_margin, x_max + x_margin)\n",
    "        ax.set_ylim(-(y_max + y_margin), -(y_min - y_margin))\n",
    "        ax.set_aspect('equal')\n",
    "        ax.axis('off')\n",
    "        ax.set_title(label)\n",
    "\n",
    "        ax.scatter(keypoints[:, 0], -keypoints[:, 1], c='blue', s=20)\n",
    "        for i, j in skeleton_edges:\n",
    "            x = [keypoints[i, 0], keypoints[j, 0]]\n",
    "            y = [-keypoints[i, 1], -keypoints[j, 1]]\n",
    "            ax.plot(x, y, 'b-', lw=2)\n",
    "\n",
    "    if frame_idx is not None:\n",
    "        fig.suptitle(f\"{title} - Frame {frame_idx}\", fontsize=14)\n",
    "\n",
    "    fig.tight_layout()\n",
    "    fig.canvas.draw()\n",
    "    img = np.asarray(fig.canvas.buffer_rgba())\n",
    "    img_bgr = cv2.cvtColor(img, cv2.COLOR_RGBA2BGR)\n",
    "    img_bgr = cv2.resize(img_bgr, (800, 400))  # adjust as needed\n",
    "    plt.close(fig)\n",
    "    return img_bgr\n"
   ]
  },
  {
   "cell_type": "code",
   "execution_count": 59,
   "id": "c70c6a30",
   "metadata": {},
   "outputs": [],
   "source": [
    "def write_comparison_video(\n",
    "    original_kps,\n",
    "    reconstructed_kps,\n",
    "    draw_fn,  \n",
    "    output_path,\n",
    "    fps=50,\n",
    "    width=800,\n",
    "    height=400,\n",
    "    start_frame=0,\n",
    "    frame_count=200\n",
    "):\n",
    "    fourcc = cv2.VideoWriter_fourcc(*'mp4v')\n",
    "    video = cv2.VideoWriter(output_path, fourcc, fps, (width, height))\n",
    "\n",
    "    for f in tqdm(range(start_frame, start_frame + frame_count)):\n",
    "        orig = original_kps[f]\n",
    "        recon = reconstructed_kps[f]\n",
    "        frame_img = draw_fn(orig, recon, f)\n",
    "        video.write(frame_img)\n",
    "\n",
    "    video.release()\n",
    "    print(f\"Video saved to: {output_path}\")\n"
   ]
  },
  {
   "cell_type": "code",
   "execution_count": 61,
   "id": "65560c9f",
   "metadata": {},
   "outputs": [
    {
     "name": "stderr",
     "output_type": "stream",
     "text": [
      "100%|████████████████████████████████████████████████████████████████████████████████| 200/200 [01:15<00:00,  2.66it/s]"
     ]
    },
    {
     "name": "stdout",
     "output_type": "stream",
     "text": [
      "Video saved to: side_by_side_comparison_cubic.mp4\n"
     ]
    },
    {
     "name": "stderr",
     "output_type": "stream",
     "text": [
      "\n"
     ]
    }
   ],
   "source": [
    "# Smooth trajectories before comparison (optional but recommended)\n",
    "smoothed_gt = smooth_trajectory(keypoints_segment)\n",
    "smoothed_recon = smooth_trajectory(recon_cubic_all)\n",
    "\n",
    "# Write side-by-side comparison video\n",
    "write_comparison_video(\n",
    "    original_kps=smoothed_gt,\n",
    "    reconstructed_kps=smoothed_recon,\n",
    "    draw_fn=draw_side_by_side_skeleton,\n",
    "    output_path=\"side_by_side_comparison_cubic.mp4\",\n",
    "    fps=50,\n",
    "    width=800,\n",
    "    height=400,\n",
    "    start_frame=0,\n",
    "    frame_count=segment_len\n",
    ")\n"
   ]
  },
  {
   "cell_type": "code",
   "execution_count": 63,
   "id": "b9180624",
   "metadata": {},
   "outputs": [
    {
     "data": {
      "text/plain": [
       "CompletedProcess(args=['start', 'side_by_side_comparison_cubic.mp4'], returncode=0)"
      ]
     },
     "execution_count": 63,
     "metadata": {},
     "output_type": "execute_result"
    }
   ],
   "source": [
    "subprocess.run(['start', 'side_by_side_comparison_cubic.mp4'], shell=True)"
   ]
  },
  {
   "cell_type": "code",
   "execution_count": 65,
   "id": "454bf7c0",
   "metadata": {},
   "outputs": [
    {
     "name": "stderr",
     "output_type": "stream",
     "text": [
      "100%|████████████████████████████████████████████████████████████████████████████████| 200/200 [01:15<00:00,  2.64it/s]"
     ]
    },
    {
     "name": "stdout",
     "output_type": "stream",
     "text": [
      "Video saved to: side_by_side_comparison_linear.mp4\n"
     ]
    },
    {
     "name": "stderr",
     "output_type": "stream",
     "text": [
      "\n"
     ]
    }
   ],
   "source": [
    "# Smooth trajectories before comparison (optional but recommended)\n",
    "smoothed_gt = smooth_trajectory(keypoints_segment)\n",
    "smoothed_recon = smooth_trajectory(recon_linear_all)\n",
    "\n",
    "# Write side-by-side comparison video\n",
    "write_comparison_video(\n",
    "    original_kps=smoothed_gt,\n",
    "    reconstructed_kps=smoothed_recon,\n",
    "    draw_fn=draw_side_by_side_skeleton,\n",
    "    output_path=\"side_by_side_comparison_linear.mp4\",\n",
    "    fps=50,\n",
    "    width=800,\n",
    "    height=400,\n",
    "    start_frame=0,\n",
    "    frame_count=segment_len\n",
    ")"
   ]
  },
  {
   "cell_type": "code",
   "execution_count": 67,
   "id": "96cd96fc",
   "metadata": {},
   "outputs": [
    {
     "data": {
      "text/plain": [
       "CompletedProcess(args=['start', 'side_by_side_comparison_linear.mp4'], returncode=0)"
      ]
     },
     "execution_count": 67,
     "metadata": {},
     "output_type": "execute_result"
    }
   ],
   "source": [
    "subprocess.run(['start', 'side_by_side_comparison_linear.mp4'], shell=True)"
   ]
  },
  {
   "cell_type": "markdown",
   "id": "2cd2ea0d",
   "metadata": {},
   "source": [
    "# Thank You"
   ]
  }
 ],
 "metadata": {
  "kernelspec": {
   "display_name": "Python 3 (ipykernel)",
   "language": "python",
   "name": "python3"
  },
  "language_info": {
   "codemirror_mode": {
    "name": "ipython",
    "version": 3
   },
   "file_extension": ".py",
   "mimetype": "text/x-python",
   "name": "python",
   "nbconvert_exporter": "python",
   "pygments_lexer": "ipython3",
   "version": "3.12.4"
  }
 },
 "nbformat": 4,
 "nbformat_minor": 5
}
