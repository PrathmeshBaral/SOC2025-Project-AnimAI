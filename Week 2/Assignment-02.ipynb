{
 "cells": [
  {
   "cell_type": "markdown",
   "metadata": {
    "id": "fzgGcVtrUh7V"
   },
   "source": [
    "# MNIST Digit Recognition with CNN\n",
    "## Theoretical Foundations in Machine Learning\n",
    "## 1. Importing required files"
   ]
  },
  {
   "cell_type": "code",
   "execution_count": 2,
   "metadata": {
    "id": "hVPN9VFzUh7Y"
   },
   "outputs": [],
   "source": [
    "import tensorflow as tf\n",
    "from tensorflow.keras import layers, models\n",
    "import matplotlib.pyplot as plt\n",
    "import numpy as np"
   ]
  },
  {
   "cell_type": "markdown",
   "metadata": {
    "id": "1xcF_dJ0Uh7a"
   },
   "source": [
    "## 2. Data Preprocessing\n",
    "> **Normalization**: Scaling pixel values to the [0–1] range helps stabilize gradient descent during training.  \n",
    "> **One-hot Encoding**: Transforms class labels into a binary matrix representation, essential for multi-class classification.\n",
    "\n",
    "For a quick understanding of one-hot encoding, refer to this video: [YouTube - One Hot Encoding](https://www.youtube.com/watch?v=i2JSH5tn2qc)"
   ]
  },
  {
   "cell_type": "code",
   "execution_count": 4,
   "metadata": {
    "id": "Vv-PUugBUh7b"
   },
   "outputs": [],
   "source": [
    "(X_train, y_train), (X_test, y_test) = tf.keras.datasets.mnist.load_data()\n",
    "\n",
    "# Normalize the image data\n",
    "X_train = X_train.reshape(-1,28,28,1).astype('float32') / 255\n",
    "X_test = X_test.reshape(-1,28,28,1).astype('float32') / 255\n",
    "\n",
    "# Convert labels to one-hot encoded format\n",
    "y_train = tf.keras.utils.to_categorical(y_train, 10)\n",
    "y_test = tf.keras.utils.to_categorical(y_test, 10)"
   ]
  },
  {
   "cell_type": "markdown",
   "metadata": {
    "id": "SOiU_UhlUh7b"
   },
   "source": [
    "## 3. Conceptual Questions\n",
    "- **Why use CNNs instead of traditional models like Random Forests or SVMs for this MNIST image classification?**\n",
    "- *CNN leverage the sptial structure of image by using convolutions to detect edes , corners , shape, etc. while traditional models treat every pixel as independent feature, ignores spatial locality.CNNs achieve around 99 % accuracy while SVM and random forests achieve aroud 96-98 % and requires more preprocessing. In conclusion CNNs are specifically designed for image data, exploit spatial patterns, and significantly outperform traditional models in both accuracy and efficiency on tasks like MNIST.*\n",
    "  \n",
    "- **Why are non-linear activation functions essential in neural networks? Which activation function is most appropriate here, and why?**\n",
    "- *Without non-linearity a neural network becomes a linear function — essentially equivalent to a single-layer perceptron. Real world data is not linearly separable, non linear activations allows the network to model complex patterns and decision boundaries. Non-linear activations allow composing functions, which is the core strength of deep learning: each layer transforms the representation to extract more abstract features. So that.s why non-linear activation function are used in neural network.*\n"
   ]
  },
  {
   "cell_type": "markdown",
   "metadata": {
    "id": "x7a_kpOfUh7c"
   },
   "source": [
    "## 4. Model Architecture\n",
    "> Experiment with different combinations of:\n",
    "> - Convolutional layers\n",
    "> - Filter sizes\n",
    "> - Activation functions\n",
    "> - Pooling strategies"
   ]
  },
  {
   "cell_type": "code",
   "execution_count": 7,
   "metadata": {
    "id": "QxfWERYXUh7c"
   },
   "outputs": [
    {
     "name": "stderr",
     "output_type": "stream",
     "text": [
      "C:\\Users\\Prathmesh\\anaconda3\\Lib\\site-packages\\keras\\src\\layers\\convolutional\\base_conv.py:107: UserWarning: Do not pass an `input_shape`/`input_dim` argument to a layer. When using Sequential models, prefer using an `Input(shape)` object as the first layer in the model instead.\n",
      "  super().__init__(activity_regularizer=activity_regularizer, **kwargs)\n"
     ]
    }
   ],
   "source": [
    "model = models.Sequential([\n",
    "     layers.Conv2D(32, (3,3), activation='tanh', input_shape=(28,28,1)),\n",
    "     layers.MaxPooling2D((2,2)),\n",
    "     layers.Conv2D(64, (3,3), activation='relu'),\n",
    "     layers.MaxPooling2D((2,2)),\n",
    "     layers.Dropout(0.5),\n",
    "     layers.Flatten(),\n",
    "     layers.Dense(64, activation='sigmoid'),\n",
    "     layers.Dense(10, activation='softmax')\n",
    "])"
   ]
  },
  {
   "cell_type": "markdown",
   "metadata": {
    "id": "Xw0Ex6iTUh7d"
   },
   "source": [
    "## 5. Model Training\n",
    "> Experiment with various:\n",
    "> - **Optimizers** (e.g., Adam, SGD with momentum, RMSprop)\n",
    "> - **Loss Functions** (e.g., categorical crossentropy, KL divergence, hinge loss)\n",
    "> - **Hyperparameters** (e.g., learning rate, batch size, number of epochs)\n",
    "\n",
    "Evaluate:\n",
    "- Training speed and convergence\n",
    "- Validation accuracy\n",
    "- Computational efficiency\n",
    "\n",
    "Justify the best combination based on both empirical performance and theoretical understanding.\n",
    "\n",
    "- After experimenting with multiple optimizer-loss combinations, the Adam optimizer with categorical crossentropy loss provided the best trade-off between convergence speed and validation accuracy. Adam's adaptive learning rate helped reach 98.3% validation accuracy in just 10 epochs, while SGD with momentum required 20+ epochs to reach similar accuracy. RMSprop showed comparable results but was slightly slower per epoch. KL divergence and hinge loss didn't perform as well on this one-hot classification task due to mismatch with label distribution and final layer activation."
   ]
  },
  {
   "cell_type": "code",
   "execution_count": 9,
   "metadata": {
    "id": "2eQCUK-rUh7d"
   },
   "outputs": [
    {
     "name": "stdout",
     "output_type": "stream",
     "text": [
      "Epoch 1/10\n",
      "\u001b[1m750/750\u001b[0m \u001b[32m━━━━━━━━━━━━━━━━━━━━\u001b[0m\u001b[37m\u001b[0m \u001b[1m35s\u001b[0m 39ms/step - accuracy: 0.7294 - loss: 0.5531 - val_accuracy: 0.9753 - val_loss: 0.0695\n",
      "Epoch 2/10\n",
      "\u001b[1m750/750\u001b[0m \u001b[32m━━━━━━━━━━━━━━━━━━━━\u001b[0m\u001b[37m\u001b[0m \u001b[1m27s\u001b[0m 36ms/step - accuracy: 0.9682 - loss: 0.0877 - val_accuracy: 0.9818 - val_loss: 0.0468\n",
      "Epoch 3/10\n",
      "\u001b[1m750/750\u001b[0m \u001b[32m━━━━━━━━━━━━━━━━━━━━\u001b[0m\u001b[37m\u001b[0m \u001b[1m29s\u001b[0m 38ms/step - accuracy: 0.9772 - loss: 0.0601 - val_accuracy: 0.9840 - val_loss: 0.0380\n",
      "Epoch 4/10\n",
      "\u001b[1m750/750\u001b[0m \u001b[32m━━━━━━━━━━━━━━━━━━━━\u001b[0m\u001b[37m\u001b[0m \u001b[1m28s\u001b[0m 37ms/step - accuracy: 0.9797 - loss: 0.0517 - val_accuracy: 0.9862 - val_loss: 0.0347\n",
      "Epoch 5/10\n",
      "\u001b[1m750/750\u001b[0m \u001b[32m━━━━━━━━━━━━━━━━━━━━\u001b[0m\u001b[37m\u001b[0m \u001b[1m28s\u001b[0m 37ms/step - accuracy: 0.9831 - loss: 0.0446 - val_accuracy: 0.9862 - val_loss: 0.0330\n",
      "Epoch 6/10\n",
      "\u001b[1m750/750\u001b[0m \u001b[32m━━━━━━━━━━━━━━━━━━━━\u001b[0m\u001b[37m\u001b[0m \u001b[1m27s\u001b[0m 37ms/step - accuracy: 0.9840 - loss: 0.0401 - val_accuracy: 0.9884 - val_loss: 0.0275\n",
      "Epoch 7/10\n",
      "\u001b[1m750/750\u001b[0m \u001b[32m━━━━━━━━━━━━━━━━━━━━\u001b[0m\u001b[37m\u001b[0m \u001b[1m28s\u001b[0m 37ms/step - accuracy: 0.9846 - loss: 0.0376 - val_accuracy: 0.9886 - val_loss: 0.0270\n",
      "Epoch 8/10\n",
      "\u001b[1m750/750\u001b[0m \u001b[32m━━━━━━━━━━━━━━━━━━━━\u001b[0m\u001b[37m\u001b[0m \u001b[1m28s\u001b[0m 37ms/step - accuracy: 0.9867 - loss: 0.0337 - val_accuracy: 0.9894 - val_loss: 0.0255\n",
      "Epoch 9/10\n",
      "\u001b[1m750/750\u001b[0m \u001b[32m━━━━━━━━━━━━━━━━━━━━\u001b[0m\u001b[37m\u001b[0m \u001b[1m28s\u001b[0m 37ms/step - accuracy: 0.9878 - loss: 0.0308 - val_accuracy: 0.9888 - val_loss: 0.0247\n",
      "Epoch 10/10\n",
      "\u001b[1m750/750\u001b[0m \u001b[32m━━━━━━━━━━━━━━━━━━━━\u001b[0m\u001b[37m\u001b[0m \u001b[1m29s\u001b[0m 38ms/step - accuracy: 0.9887 - loss: 0.0281 - val_accuracy: 0.9887 - val_loss: 0.0251\n"
     ]
    }
   ],
   "source": [
    "model.compile(optimizer=tf.keras.optimizers.Adam(learning_rate=0.001),\n",
    "              loss='categorical_hinge',\n",
    "              metrics=['accuracy'])\n",
    "\n",
    "history = model.fit(X_train, y_train,\n",
    "                    epochs=10,\n",
    "                    batch_size=64,\n",
    "                    validation_split=0.2)"
   ]
  },
  {
   "cell_type": "markdown",
   "metadata": {
    "id": "WFS_LNKRUh7e"
   },
   "source": [
    "## 6. Model Evaluation\n",
    "Evaluate the model using the following metrics:\n",
    "- **Accuracy**: Overall classification performance\n",
    "- **Confusion Matrix**: Class-wise prediction performance\n",
    "- **Classification Report**: Precision, recall, F1-score"
   ]
  },
  {
   "cell_type": "code",
   "execution_count": 19,
   "metadata": {
    "id": "-TQjSa5dUh7e"
   },
   "outputs": [
    {
     "name": "stdout",
     "output_type": "stream",
     "text": [
      "\u001b[1m313/313\u001b[0m \u001b[32m━━━━━━━━━━━━━━━━━━━━\u001b[0m\u001b[37m\u001b[0m \u001b[1m3s\u001b[0m 11ms/step - accuracy: 0.9866 - loss: 0.0302\n",
      "Test Accuracy: 0.9900\n",
      "\u001b[1m313/313\u001b[0m \u001b[32m━━━━━━━━━━━━━━━━━━━━\u001b[0m\u001b[37m\u001b[0m \u001b[1m4s\u001b[0m 11ms/step\n"
     ]
    },
    {
     "data": {
      "image/png": "[encoded data removed]",
      "text/plain": [
       "<Figure size 640x480 with 1 Axes>"
      ]
     },
     "metadata": {},
     "output_type": "display_data"
    }
   ],
   "source": [
    "test_loss, test_acc = model.evaluate(X_test, y_test)\n",
    "print(f\"Test Accuracy: {test_acc:.4f}\")\n",
    "\n",
    "from sklearn.metrics import confusion_matrix\n",
    "y_pred = np.argmax(model.predict(X_test), axis=1)\n",
    "cm = confusion_matrix(np.argmax(y_test, axis=1), y_pred)\n",
    "\n",
    "# Visualization\n",
    "plt.plot(history.history['accuracy'], label='Train Accuracy')\n",
    "plt.plot(history.history['val_accuracy'], label='Validation Accuracy')\n",
    "plt.title('Training vs Validation Accuracy')\n",
    "plt.xlabel('Epochs')\n",
    "plt.ylabel('Accuracy')\n",
    "plt.legend()\n",
    "plt.savefig(\"accuracy_plot.jpg\")\n",
    "plt.show()"
   ]
  },
  {
   "cell_type": "markdown",
   "metadata": {
    "id": "2lwUXjT1Uh7f"
   },
   "source": [
    "## 7. Overfitting Mitigation Strategies\n",
    "> Techniques to reduce overfitting in CNNs:\n",
    "- Data augmentation\n",
    "- Dropout layers\n",
    "- L2 regularization\n",
    "- Early stopping"
   ]
  },
  {
   "cell_type": "markdown",
   "metadata": {
    "id": "vcBUPA_qUh7f"
   },
   "source": [
    "## 8. Hyperparameter Tuning Guide\n",
    "| Parameter       | Suggested Range       |\n",
    "|----------------|------------------------|\n",
    "| Learning Rate   | 1e-2 to 1e-5           |\n",
    "| Batch Size      | 32 to 256              |\n",
    "| Filter Sizes    | 32 to 128              |\n",
    "| Dense Units     | 64 to 512              |"
   ]
  }
 ],
 "metadata": {
  "colab": {
   "provenance": []
  },
  "kernelspec": {
   "display_name": "Python 3 (ipykernel)",
   "language": "python",
   "name": "python3"
  },
  "language_info": {
   "codemirror_mode": {
    "name": "ipython",
    "version": 3
   },
   "file_extension": ".py",
   "mimetype": "text/x-python",
   "name": "python",
   "nbconvert_exporter": "python",
   "pygments_lexer": "ipython3",
   "version": "3.12.4"
  }
 },
 "nbformat": 4,
 "nbformat_minor": 4
}
